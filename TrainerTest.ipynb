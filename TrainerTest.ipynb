{
 "cells": [
  {
   "cell_type": "code",
   "execution_count": 2,
   "metadata": {},
   "outputs": [],
   "source": [
    "from Trainer import NTrainer\n",
    "from TheCar import Car\n",
    "from time import sleep\n",
    "from Carbase import CarBase\n",
    "from Track import Track, CControlPoint\n",
    "from utils.Vector2 import Vector2D\n",
    "from PathPoint import PathP\n",
    "from Sensors import Sensors\n",
    "import numpy as np\n",
    "import random\n",
    "import math\n",
    "from collections import deque"
   ]
  },
  {
   "cell_type": "code",
   "execution_count": 4,
   "metadata": {},
   "outputs": [],
   "source": [
    "# трек\n",
    "r = Track()\n",
    "r.Load('images/track1')\n",
    "r.Prepare()\n",
    "\n",
    "#draw Car\n",
    "from time import sleep\n",
    "from ipycanvas import Canvas, hold_canvas\n",
    "\n",
    "canvas = Canvas(width=1000, height=600)\n",
    "display(canvas)\n",
    "\n",
    "def draw_cars(car, n):\n",
    "    with hold_canvas(canvas):\n",
    "        # Clear the old animation step\n",
    "        canvas.clear()\n",
    "        for p in r.Points:  \n",
    "            canvas.stroke_style = 'blue'\n",
    "            canvas.stroke_line(p.LeftWall.From.X,p.LeftWall.From.Y,p.LeftWall.To.X,p.LeftWall.To.Y)\n",
    "            canvas.stroke_line(p.RightWall.From.X,p.RightWall.From.Y,p.RightWall.To.X,p.RightWall.To.Y)\n",
    "        canvas.fill_style = 'red'\n",
    "        if car.Breaks:\n",
    "            canvas.fill_style = 'orange'\n",
    "        canvas.fill_rect(car.Pos.X, car.Pos.Y, 5, 5)\n",
    "  \n",
    "        canvas.fill_style = 'red'\n",
    "        canvas.font = '14px serif'\n",
    "        canvas.fill_text(str(car.Velocity), 0, 10, max_width=None)\n",
    "        canvas.fill_text(n, 0, 25, max_width=None)\n",
    "        canvas.fill_text(car.GetPassLength(), 0, 40, max_width=None)\n",
    "        canvas\n",
    "\n",
    "        canvas.sleep(10)\n",
    "        \n",
    "Tr = NTrainer()\n",
    "Tr.Track = r\n",
    "Tr.Population = 10\n",
    "\n",
    "# Tr.GeneticNN.ActivationFunctionType = TanHFunction\n",
    "dt = 0.1  # скорость симуляции\n",
    "generationCount =10\n",
    "\n",
    "for i in range(generationCount):\n",
    "        Tr.BuildFirstPopulation()\n",
    "        Tr.BuildNextGeneration()\n",
    "\n",
    "        while (True):\n",
    "            if (not Tr.IsAlive()):\n",
    "                if (Tr.Generation >= generationCount):\n",
    "                    break\n",
    "                Tr.BuildNextGeneration()\n",
    "            draw_cars(Tr.find_leader(), i)\n",
    "            # если лидер прошёл более 10 000 метров, то сохранить его веса в файл\n",
    "            if Tr.find_leader().TotalPassedLength >= 10000:\n",
    "                Tr.GeneticNN.NNs[Tr.find_leader().Index].SaveWeights(\"images/net1.pt\")\n",
    "                break\n",
    "            # update cars\n",
    "            Tr.Update(dt)         \n",
    "# если сеть не обучается, то просто запустите ещё раз!"
   ]
  },
  {
   "cell_type": "code",
   "execution_count": null,
   "metadata": {},
   "outputs": [
    {
     "data": {
      "application/vnd.jupyter.widget-view+json": {
       "model_id": "a5bc69970014431389a9011a945d8870",
       "version_major": 2,
       "version_minor": 0
      },
      "text/plain": [
       "Canvas(height=600, width=1000)"
      ]
     },
     "metadata": {},
     "output_type": "display_data"
    }
   ],
   "source": [
    "# проверка сети на других треках\n",
    "nr = Track()\n",
    "nr.Load('images/americas')    # другой трек\n",
    "nr.Prepare()\n",
    "Tr.Track = nr\n",
    "Tr.BuildFirstPopulation(\"images/net.pt\")    # ранее сохранённая сеть\n",
    "generationCount = 10\n",
    "dt = 0.3\n",
    "\n",
    "canvas = Canvas(width=1000, height=600)\n",
    "display(canvas)\n",
    "\n",
    "for i in range(3000):\n",
    "    with hold_canvas(canvas):\n",
    "        canvas.clear()\n",
    "        Tr.Update(dt)\n",
    "        for p in nr.Points:  \n",
    "            canvas.stroke_style = 'blue'\n",
    "            canvas.stroke_line(p.LeftWall.From.X,p.LeftWall.From.Y,p.LeftWall.To.X,p.LeftWall.To.Y)\n",
    "            canvas.stroke_line(p.RightWall.From.X,p.RightWall.From.Y,p.RightWall.To.X,p.RightWall.To.Y)\n",
    "        canvas.fill_style = 'red'\n",
    "        car = Tr.find_leader()\n",
    "        if car.Breaks:\n",
    "            canvas.fill_style = 'orange'\n",
    "        canvas.fill_rect(car.Pos.X, car.Pos.Y, 5, 5)\n",
    "  \n",
    "        canvas.fill_style = 'red'\n",
    "        canvas.font = '14px serif'\n",
    "        canvas.fill_text(str(car.Velocity), 0, 10, max_width=None)\n",
    "        canvas.fill_text(car.Index, 0, 25, max_width=None)\n",
    "        canvas.fill_text(car.GetPassLength(), 0, 40, max_width=None)\n",
    "        canvas\n",
    "        \n",
    "        #Tr.Update(dt)\n",
    "        if (not Tr.IsAlive()):\n",
    "            if (Tr.Generation >= generationCount):\n",
    "                break\n",
    "\n",
    "        canvas.sleep(10)"
   ]
  },
  {
   "cell_type": "code",
   "execution_count": null,
   "metadata": {},
   "outputs": [],
   "source": []
  }
 ],
 "metadata": {
  "kernelspec": {
   "display_name": "py38torch",
   "language": "python",
   "name": "py38torch"
  },
  "language_info": {
   "codemirror_mode": {
    "name": "ipython",
    "version": 3
   },
   "file_extension": ".py",
   "mimetype": "text/x-python",
   "name": "python",
   "nbconvert_exporter": "python",
   "pygments_lexer": "ipython3",
   "version": "3.9.7"
  }
 },
 "nbformat": 4,
 "nbformat_minor": 4
}
