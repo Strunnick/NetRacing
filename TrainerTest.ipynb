{
 "cells": [
  {
   "cell_type": "code",
   "execution_count": 1,
   "metadata": {},
   "outputs": [],
   "source": [
    "from trainer import Trainer\n",
    "from TheCar import Car\n",
    "from time import sleep\n",
    "from carbase import CarBase\n",
    "from track import Track, CControlPoint\n",
    "from utils.Vector2 import Vector2D\n",
    "from PathPoint import PathP\n",
    "from Sensors import Sensors\n",
    "import numpy as np\n",
    "import random\n",
    "import math\n",
    "from collections import deque"
   ]
  },
  {
   "cell_type": "code",
   "execution_count": 2,
   "metadata": {},
   "outputs": [
    {
     "data": {
      "application/vnd.jupyter.widget-view+json": {
       "model_id": "650ee6ec3db94e0ba75ada1d50068f9b",
       "version_major": 2,
       "version_minor": 0
      },
      "text/plain": [
       "Canvas(height=400, width=1000)"
      ]
     },
     "metadata": {},
     "output_type": "display_data"
    }
   ],
   "source": [
    "# трек\n",
    "r = Track()\n",
    "data = [[77,131,18,False],\n",
    "        [370,56,18,False],\n",
    "        [711,101,18,False],\n",
    "        [741,366,18,False],\n",
    "        [385,368,18,False],\n",
    "        [69,309,18,False],\n",
    "        [16,213,18,False],\n",
    "        [65,138,18,False]]\n",
    "ind = 0\n",
    "for d in data:\n",
    "    r.ControlPoints.append(CControlPoint(Vector2D(d[0],d[1]),d[2]))\n",
    "    r.ControlPoints[ind].Temp = d[3]\n",
    "    ind += 1\n",
    "\n",
    "with open(\"points.txt\", \"r\") as ins:\n",
    "    for line in ins:\n",
    "        data = line.split() \n",
    "        p = PathP()\n",
    "        p.Point.X = float(data[0])\n",
    "        p.Point.Y = float(data[1])\n",
    "        p.Width = float(data[2])\n",
    "        r.Points.append(p)\n",
    "        \n",
    "r.Prepare()\n",
    "\n",
    "#draw Car\n",
    "from time import sleep\n",
    "from ipycanvas import Canvas, hold_canvas\n",
    "\n",
    "canvas = Canvas(width=1000, height=400)\n",
    "display(canvas)\n",
    "\n",
    "def draw_cars(car, n):\n",
    "    with hold_canvas(canvas):\n",
    "        # Clear the old animation step\n",
    "        canvas.clear()\n",
    "        for p in r.Points:  \n",
    "            canvas.stroke_style = 'blue'\n",
    "            canvas.stroke_line(p.LeftWall.From.X,p.LeftWall.From.Y,p.LeftWall.To.X,p.LeftWall.To.Y)\n",
    "            canvas.stroke_line(p.RightWall.From.X,p.RightWall.From.Y,p.RightWall.To.X,p.RightWall.To.Y)\n",
    "        canvas.fill_style = 'red'\n",
    "        if car.Breaks:\n",
    "            canvas.fill_style = 'orange'\n",
    "        canvas.fill_rect(car.Pos.X, car.Pos.Y, 5, 5)\n",
    "        #canvas.fill_style = 'white'\n",
    "        #canvas.fill_rect(cars[2].Pos.X, cars[2].Pos.X, 5, 5)\n",
    "            \n",
    "        #canvas.fill_style = 'green'\n",
    "        #canvas.fill_rect(cars[4].Pos.X, cars[4].Pos.Y, 5, 5)\n",
    "        #canvas.fill_style = 'black'\n",
    "        #canvas.fill_rect(cars[9].Pos.X, cars[9].Pos.Y, 5, 5)\n",
    "            \n",
    "        canvas.fill_style = 'red'\n",
    "        canvas.font = '14px serif'\n",
    "        canvas.fill_text(str(car.Velocity), 0, 10, max_width=None)\n",
    "        canvas.fill_text(n, 0, 25, max_width=None)\n",
    "        canvas.fill_text(car.GetPassLength(), 0, 40, max_width=None)\n",
    "        canvas\n",
    "\n",
    "        canvas.sleep(10)\n",
    "        \n",
    "Tr = Trainer()\n",
    "Tr.Track = r\n",
    "Tr.Population = 10\n",
    "#Tr.GeneticNN.ActivationFunctionType = TanHFunction\n",
    "generationCount = 2\n",
    "for i in range(generationCount):\n",
    "        Tr.BuildFirstPopulation()\n",
    "        Tr.BuildNextGeneration()\n",
    "\n",
    "        while (True):\n",
    "            if (not Tr.IsAlive()):\n",
    "                if (Tr.Generation >= generationCount):\n",
    "                    break\n",
    "                Tr.BuildNextGeneration()\n",
    "            draw_cars(Tr.find_leader(), i)\n",
    "            # если лидер прошёл более 10 000 метров, то сохранить его веса в файл\n",
    "            # Tr.GeneticNN.NNs[Tr.find_leader().Index].SaveWeights(\"net.pt\")\n",
    "            dt = 0.25\n",
    "            # update cars\n",
    "            Tr.Update(dt)"
   ]
  },
  {
   "cell_type": "code",
   "execution_count": null,
   "metadata": {},
   "outputs": [],
   "source": []
  }
 ],
 "metadata": {
  "kernelspec": {
   "display_name": "py38torch",
   "language": "python",
   "name": "py38torch"
  },
  "language_info": {
   "codemirror_mode": {
    "name": "ipython",
    "version": 3
   },
   "file_extension": ".py",
   "mimetype": "text/x-python",
   "name": "python",
   "nbconvert_exporter": "python",
   "pygments_lexer": "ipython3",
   "version": "3.9.7"
  }
 },
 "nbformat": 4,
 "nbformat_minor": 4
}
