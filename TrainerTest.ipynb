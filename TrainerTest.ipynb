{
 "cells": [
  {
   "cell_type": "code",
   "execution_count": 1,
   "metadata": {},
   "outputs": [],
   "source": [
    "from Trainer import NTrainer\n",
    "from TheCar import Car\n",
    "from time import sleep\n",
    "from Carbase import CarBase\n",
    "from Track import Track, CControlPoint\n",
    "from utils.Vector2 import Vector2D\n",
    "from PathPoint import PathP\n",
    "from Sensors import Sensors\n",
    "import numpy as np\n",
    "import random\n",
    "import math\n",
    "from collections import deque"
   ]
  },
  {
   "cell_type": "code",
   "execution_count": 3,
   "metadata": {},
   "outputs": [
    {
     "data": {
      "application/vnd.jupyter.widget-view+json": {
       "model_id": "38e9933ad1df42e6869123a464cd7af0",
       "version_major": 2,
       "version_minor": 0
      },
      "text/plain": [
       "Canvas(height=600, width=1000)"
      ]
     },
     "metadata": {},
     "output_type": "display_data"
    }
   ],
   "source": [
    "# трек\n",
    "r = Track()\n",
    "r.Load('images/track1')\n",
    "r.Prepare()\n",
    "\n",
    "#draw Car\n",
    "from time import sleep\n",
    "from ipycanvas import Canvas, hold_canvas\n",
    "\n",
    "canvas = Canvas(width=1000, height=600)\n",
    "display(canvas)\n",
    "\n",
    "def draw_cars(car, n):\n",
    "    with hold_canvas(canvas):\n",
    "        # Clear the old animation step\n",
    "        canvas.clear()\n",
    "        for p in r.Points:  \n",
    "            canvas.stroke_style = 'blue'\n",
    "            canvas.stroke_line(p.LeftWall.From.X,p.LeftWall.From.Y,p.LeftWall.To.X,p.LeftWall.To.Y)\n",
    "            canvas.stroke_line(p.RightWall.From.X,p.RightWall.From.Y,p.RightWall.To.X,p.RightWall.To.Y)\n",
    "        canvas.fill_style = 'red'\n",
    "        if car.Breaks:\n",
    "            canvas.fill_style = 'orange'\n",
    "        canvas.fill_rect(car.Pos.X, car.Pos.Y, 5, 5)\n",
    "  \n",
    "        canvas.fill_style = 'red'\n",
    "        canvas.font = '14px serif'\n",
    "        canvas.fill_text(str(car.Velocity), 0, 10, max_width=None)\n",
    "        canvas.fill_text(n, 0, 25, max_width=None)\n",
    "        canvas.fill_text(car.GetPassLength(), 0, 40, max_width=None)\n",
    "        canvas\n",
    "\n",
    "        canvas.sleep(10)\n",
    "        \n",
    "Tr = NTrainer()\n",
    "Tr.Track = r\n",
    "Tr.Population = 10\n",
    "\n",
    "# Tr.GeneticNN.ActivationFunctionType = TanHFunction\n",
    "dt = 0.1  # скорость симуляции\n",
    "generationCount =10\n",
    "for i in range(generationCount):\n",
    "        Tr.BuildFirstPopulation()\n",
    "        Tr.BuildNextGeneration()\n",
    "\n",
    "        while (True):\n",
    "            if (not Tr.IsAlive()):\n",
    "                if (Tr.Generation >= generationCount):\n",
    "                    break\n",
    "                Tr.BuildNextGeneration()\n",
    "            draw_cars(Tr.find_leader(), i)\n",
    "            # если лидер прошёл более 10 000 метров, то сохранить его веса в файл\n",
    "            if Tr.find_leader().TotalPassedLength >= 10000:\n",
    "                Tr.GeneticNN.NNs[Tr.find_leader().Index].SaveWeights(\"images/net1.pt\")\n",
    "                break\n",
    "            # update cars\n",
    "            Tr.Update(dt)         \n",
    "# если сеть не обучается, то просто запустите ещё раз!"
   ]
  },
  {
   "cell_type": "code",
   "execution_count": 3,
   "metadata": {},
   "outputs": [
    {
     "data": {
      "application/vnd.jupyter.widget-view+json": {
       "model_id": "1d63de2bebad4bdc9c1761cc242321d6",
       "version_major": 2,
       "version_minor": 0
      },
      "text/plain": [
       "Canvas(height=600, width=1000)"
      ]
     },
     "metadata": {},
     "output_type": "display_data"
    },
    {
     "ename": "KeyboardInterrupt",
     "evalue": "",
     "output_type": "error",
     "traceback": [
      "\u001b[1;31m---------------------------------------------------------------------------\u001b[0m",
      "\u001b[1;31mKeyboardInterrupt\u001b[0m                         Traceback (most recent call last)",
      "Input \u001b[1;32mIn [3]\u001b[0m, in \u001b[0;36m<module>\u001b[1;34m\u001b[0m\n\u001b[0;32m     36\u001b[0m     \u001b[38;5;28;01mif\u001b[39;00m (Tr\u001b[38;5;241m.\u001b[39mGeneration \u001b[38;5;241m>\u001b[39m\u001b[38;5;241m=\u001b[39m generationCount):\n\u001b[0;32m     37\u001b[0m         \u001b[38;5;28;01mbreak\u001b[39;00m\n\u001b[1;32m---> 39\u001b[0m canvas\u001b[38;5;241m.\u001b[39msleep(\u001b[38;5;241m10\u001b[39m)\n",
      "File \u001b[1;32m~\\miniconda3\\envs\\py38torch\\lib\\contextlib.py:126\u001b[0m, in \u001b[0;36m_GeneratorContextManager.__exit__\u001b[1;34m(self, typ, value, traceback)\u001b[0m\n\u001b[0;32m    124\u001b[0m \u001b[38;5;28;01mif\u001b[39;00m typ \u001b[38;5;129;01mis\u001b[39;00m \u001b[38;5;28;01mNone\u001b[39;00m:\n\u001b[0;32m    125\u001b[0m     \u001b[38;5;28;01mtry\u001b[39;00m:\n\u001b[1;32m--> 126\u001b[0m         \u001b[38;5;28;43mnext\u001b[39;49m\u001b[43m(\u001b[49m\u001b[38;5;28;43mself\u001b[39;49m\u001b[38;5;241;43m.\u001b[39;49m\u001b[43mgen\u001b[49m\u001b[43m)\u001b[49m\n\u001b[0;32m    127\u001b[0m     \u001b[38;5;28;01mexcept\u001b[39;00m \u001b[38;5;167;01mStopIteration\u001b[39;00m:\n\u001b[0;32m    128\u001b[0m         \u001b[38;5;28;01mreturn\u001b[39;00m \u001b[38;5;28;01mFalse\u001b[39;00m\n",
      "File \u001b[1;32m~\\miniconda3\\envs\\py38torch\\lib\\site-packages\\ipycanvas\\canvas.py:1370\u001b[0m, in \u001b[0;36mhold_canvas\u001b[1;34m(canvas)\u001b[0m\n\u001b[0;32m   1368\u001b[0m canvas\u001b[38;5;241m.\u001b[39mcaching \u001b[38;5;241m=\u001b[39m \u001b[38;5;28;01mTrue\u001b[39;00m\n\u001b[0;32m   1369\u001b[0m \u001b[38;5;28;01myield\u001b[39;00m\n\u001b[1;32m-> 1370\u001b[0m \u001b[43mcanvas\u001b[49m\u001b[38;5;241;43m.\u001b[39;49m\u001b[43mflush\u001b[49m\u001b[43m(\u001b[49m\u001b[43m)\u001b[49m\n\u001b[0;32m   1372\u001b[0m \u001b[38;5;28;01mif\u001b[39;00m \u001b[38;5;129;01mnot\u001b[39;00m orig_caching:\n\u001b[0;32m   1373\u001b[0m     canvas\u001b[38;5;241m.\u001b[39mcaching \u001b[38;5;241m=\u001b[39m \u001b[38;5;28;01mFalse\u001b[39;00m\n",
      "File \u001b[1;32m~\\miniconda3\\envs\\py38torch\\lib\\site-packages\\ipycanvas\\canvas.py:1128\u001b[0m, in \u001b[0;36mCanvas.flush\u001b[1;34m(self)\u001b[0m\n\u001b[0;32m   1125\u001b[0m \u001b[38;5;28;01mif\u001b[39;00m \u001b[38;5;129;01mnot\u001b[39;00m \u001b[38;5;28mself\u001b[39m\u001b[38;5;241m.\u001b[39mcaching \u001b[38;5;129;01mor\u001b[39;00m \u001b[38;5;129;01mnot\u001b[39;00m \u001b[38;5;28mlen\u001b[39m(\u001b[38;5;28mself\u001b[39m\u001b[38;5;241m.\u001b[39m_commands_cache):\n\u001b[0;32m   1126\u001b[0m     \u001b[38;5;28;01mreturn\u001b[39;00m\n\u001b[1;32m-> 1128\u001b[0m \u001b[38;5;28;43mself\u001b[39;49m\u001b[38;5;241;43m.\u001b[39;49m\u001b[43m_send_custom\u001b[49m\u001b[43m(\u001b[49m\u001b[38;5;28;43mself\u001b[39;49m\u001b[38;5;241;43m.\u001b[39;49m\u001b[43m_commands_cache\u001b[49m\u001b[43m,\u001b[49m\u001b[43m \u001b[49m\u001b[38;5;28;43mself\u001b[39;49m\u001b[38;5;241;43m.\u001b[39;49m\u001b[43m_buffers_cache\u001b[49m\u001b[43m)\u001b[49m\n\u001b[0;32m   1130\u001b[0m \u001b[38;5;28mself\u001b[39m\u001b[38;5;241m.\u001b[39m_commands_cache \u001b[38;5;241m=\u001b[39m []\n\u001b[0;32m   1131\u001b[0m \u001b[38;5;28mself\u001b[39m\u001b[38;5;241m.\u001b[39m_buffers_cache \u001b[38;5;241m=\u001b[39m []\n",
      "File \u001b[1;32m~\\miniconda3\\envs\\py38torch\\lib\\site-packages\\ipycanvas\\canvas.py:1199\u001b[0m, in \u001b[0;36mCanvas._send_custom\u001b[1;34m(self, command, buffers)\u001b[0m\n\u001b[0;32m   1198\u001b[0m \u001b[38;5;28;01mdef\u001b[39;00m \u001b[38;5;21m_send_custom\u001b[39m(\u001b[38;5;28mself\u001b[39m, command, buffers\u001b[38;5;241m=\u001b[39m[]):\n\u001b[1;32m-> 1199\u001b[0m     metadata, command_buffer \u001b[38;5;241m=\u001b[39m \u001b[43mcommands_to_buffer\u001b[49m\u001b[43m(\u001b[49m\u001b[43mcommand\u001b[49m\u001b[43m)\u001b[49m\n\u001b[0;32m   1200\u001b[0m     \u001b[38;5;28mself\u001b[39m\u001b[38;5;241m.\u001b[39msend(metadata, buffers\u001b[38;5;241m=\u001b[39m[command_buffer] \u001b[38;5;241m+\u001b[39m buffers)\n",
      "File \u001b[1;32m~\\miniconda3\\envs\\py38torch\\lib\\site-packages\\ipycanvas\\utils.py:86\u001b[0m, in \u001b[0;36mcommands_to_buffer\u001b[1;34m(commands)\u001b[0m\n\u001b[0;32m     80\u001b[0m     \u001b[38;5;28;01mreturn\u001b[39;00m array_to_binary(np\u001b[38;5;241m.\u001b[39mfrombuffer(\n\u001b[0;32m     81\u001b[0m         \u001b[38;5;28mbytes\u001b[39m(orjson\u001b[38;5;241m.\u001b[39mdumps(commands, option\u001b[38;5;241m=\u001b[39morjson\u001b[38;5;241m.\u001b[39mOPT_SERIALIZE_NUMPY)),\n\u001b[0;32m     82\u001b[0m         dtype\u001b[38;5;241m=\u001b[39mnp\u001b[38;5;241m.\u001b[39muint8)\n\u001b[0;32m     83\u001b[0m     )\n\u001b[0;32m     84\u001b[0m \u001b[38;5;28;01melse\u001b[39;00m:\n\u001b[0;32m     85\u001b[0m     \u001b[38;5;28;01mreturn\u001b[39;00m array_to_binary(np\u001b[38;5;241m.\u001b[39mfrombuffer(\n\u001b[1;32m---> 86\u001b[0m         \u001b[38;5;28mbytes\u001b[39m(\u001b[43mjson\u001b[49m\u001b[38;5;241;43m.\u001b[39;49m\u001b[43mdumps\u001b[49m\u001b[43m(\u001b[49m\u001b[43mcommands\u001b[49m\u001b[43m)\u001b[49m, encoding\u001b[38;5;241m=\u001b[39m\u001b[38;5;124m'\u001b[39m\u001b[38;5;124mutf8\u001b[39m\u001b[38;5;124m'\u001b[39m), dtype\u001b[38;5;241m=\u001b[39mnp\u001b[38;5;241m.\u001b[39muint8\n\u001b[0;32m     87\u001b[0m     ))\n",
      "File \u001b[1;32m~\\miniconda3\\envs\\py38torch\\lib\\json\\__init__.py:231\u001b[0m, in \u001b[0;36mdumps\u001b[1;34m(obj, skipkeys, ensure_ascii, check_circular, allow_nan, cls, indent, separators, default, sort_keys, **kw)\u001b[0m\n\u001b[0;32m    226\u001b[0m \u001b[38;5;66;03m# cached encoder\u001b[39;00m\n\u001b[0;32m    227\u001b[0m \u001b[38;5;28;01mif\u001b[39;00m (\u001b[38;5;129;01mnot\u001b[39;00m skipkeys \u001b[38;5;129;01mand\u001b[39;00m ensure_ascii \u001b[38;5;129;01mand\u001b[39;00m\n\u001b[0;32m    228\u001b[0m     check_circular \u001b[38;5;129;01mand\u001b[39;00m allow_nan \u001b[38;5;129;01mand\u001b[39;00m\n\u001b[0;32m    229\u001b[0m     \u001b[38;5;28mcls\u001b[39m \u001b[38;5;129;01mis\u001b[39;00m \u001b[38;5;28;01mNone\u001b[39;00m \u001b[38;5;129;01mand\u001b[39;00m indent \u001b[38;5;129;01mis\u001b[39;00m \u001b[38;5;28;01mNone\u001b[39;00m \u001b[38;5;129;01mand\u001b[39;00m separators \u001b[38;5;129;01mis\u001b[39;00m \u001b[38;5;28;01mNone\u001b[39;00m \u001b[38;5;129;01mand\u001b[39;00m\n\u001b[0;32m    230\u001b[0m     default \u001b[38;5;129;01mis\u001b[39;00m \u001b[38;5;28;01mNone\u001b[39;00m \u001b[38;5;129;01mand\u001b[39;00m \u001b[38;5;129;01mnot\u001b[39;00m sort_keys \u001b[38;5;129;01mand\u001b[39;00m \u001b[38;5;129;01mnot\u001b[39;00m kw):\n\u001b[1;32m--> 231\u001b[0m     \u001b[38;5;28;01mreturn\u001b[39;00m \u001b[43m_default_encoder\u001b[49m\u001b[38;5;241;43m.\u001b[39;49m\u001b[43mencode\u001b[49m\u001b[43m(\u001b[49m\u001b[43mobj\u001b[49m\u001b[43m)\u001b[49m\n\u001b[0;32m    232\u001b[0m \u001b[38;5;28;01mif\u001b[39;00m \u001b[38;5;28mcls\u001b[39m \u001b[38;5;129;01mis\u001b[39;00m \u001b[38;5;28;01mNone\u001b[39;00m:\n\u001b[0;32m    233\u001b[0m     \u001b[38;5;28mcls\u001b[39m \u001b[38;5;241m=\u001b[39m JSONEncoder\n",
      "File \u001b[1;32m~\\miniconda3\\envs\\py38torch\\lib\\json\\encoder.py:199\u001b[0m, in \u001b[0;36mJSONEncoder.encode\u001b[1;34m(self, o)\u001b[0m\n\u001b[0;32m    195\u001b[0m         \u001b[38;5;28;01mreturn\u001b[39;00m encode_basestring(o)\n\u001b[0;32m    196\u001b[0m \u001b[38;5;66;03m# This doesn't pass the iterator directly to ''.join() because the\u001b[39;00m\n\u001b[0;32m    197\u001b[0m \u001b[38;5;66;03m# exceptions aren't as detailed.  The list call should be roughly\u001b[39;00m\n\u001b[0;32m    198\u001b[0m \u001b[38;5;66;03m# equivalent to the PySequence_Fast that ''.join() would do.\u001b[39;00m\n\u001b[1;32m--> 199\u001b[0m chunks \u001b[38;5;241m=\u001b[39m \u001b[38;5;28;43mself\u001b[39;49m\u001b[38;5;241;43m.\u001b[39;49m\u001b[43miterencode\u001b[49m\u001b[43m(\u001b[49m\u001b[43mo\u001b[49m\u001b[43m,\u001b[49m\u001b[43m \u001b[49m\u001b[43m_one_shot\u001b[49m\u001b[38;5;241;43m=\u001b[39;49m\u001b[38;5;28;43;01mTrue\u001b[39;49;00m\u001b[43m)\u001b[49m\n\u001b[0;32m    200\u001b[0m \u001b[38;5;28;01mif\u001b[39;00m \u001b[38;5;129;01mnot\u001b[39;00m \u001b[38;5;28misinstance\u001b[39m(chunks, (\u001b[38;5;28mlist\u001b[39m, \u001b[38;5;28mtuple\u001b[39m)):\n\u001b[0;32m    201\u001b[0m     chunks \u001b[38;5;241m=\u001b[39m \u001b[38;5;28mlist\u001b[39m(chunks)\n",
      "\u001b[1;31mKeyboardInterrupt\u001b[0m: "
     ]
    }
   ],
   "source": [
    "# проверка сети на других треках\n",
    "nr = Track()\n",
    "nr.Load('images/americas')    # другой трек\n",
    "nr.Prepare()\n",
    "Tr.Track = nr\n",
    "Tr.BuildFirstPopulation(\"images/net.pt\")    # ранее сохранённая сеть\n",
    "generationCount = 10\n",
    "dt = 0.3\n",
    "\n",
    "canvas = Canvas(width=1000, height=600)\n",
    "display(canvas)\n",
    "\n",
    "for i in range(3000):\n",
    "    with hold_canvas(canvas):\n",
    "        canvas.clear()\n",
    "        Tr.Update(dt)\n",
    "        for p in nr.Points:  \n",
    "            canvas.stroke_style = 'blue'\n",
    "            canvas.stroke_line(p.LeftWall.From.X,p.LeftWall.From.Y,p.LeftWall.To.X,p.LeftWall.To.Y)\n",
    "            canvas.stroke_line(p.RightWall.From.X,p.RightWall.From.Y,p.RightWall.To.X,p.RightWall.To.Y)\n",
    "        canvas.fill_style = 'red'\n",
    "        car = Tr.find_leader()\n",
    "        if car.Breaks:\n",
    "            canvas.fill_style = 'orange'\n",
    "        canvas.fill_rect(car.Pos.X, car.Pos.Y, 5, 5)\n",
    "  \n",
    "        canvas.fill_style = 'red'\n",
    "        canvas.font = '14px serif'\n",
    "        canvas.fill_text(str(car.Velocity), 0, 10, max_width=None)\n",
    "        canvas.fill_text(car.Index, 0, 25, max_width=None)\n",
    "        canvas.fill_text(car.GetPassLength(), 0, 40, max_width=None)\n",
    "        canvas\n",
    "        \n",
    "        #Tr.Update(dt)\n",
    "        if (not Tr.IsAlive()):\n",
    "            if (Tr.Generation >= generationCount):\n",
    "                break\n",
    "\n",
    "        canvas.sleep(10)"
   ]
  },
  {
   "cell_type": "code",
   "execution_count": null,
   "metadata": {},
   "outputs": [],
   "source": []
  }
 ],
 "metadata": {
  "kernelspec": {
   "display_name": "py38torch",
   "language": "python",
   "name": "py38torch"
  },
  "language_info": {
   "codemirror_mode": {
    "name": "ipython",
    "version": 3
   },
   "file_extension": ".py",
   "mimetype": "text/x-python",
   "name": "python",
   "nbconvert_exporter": "python",
   "pygments_lexer": "ipython3",
   "version": "3.9.7"
  }
 },
 "nbformat": 4,
 "nbformat_minor": 4
}
